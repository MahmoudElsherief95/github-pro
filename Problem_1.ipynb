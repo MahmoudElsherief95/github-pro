{
 "cells": [
  {
   "cell_type": "markdown",
   "metadata": {
    "deletable": false,
    "editable": false,
    "nbgrader": {
     "cell_type": "markdown",
     "checksum": "8fe2d884ab7ec712f87d4982a7a8c94e",
     "grade": false,
     "grade_id": "cell-9ffbf028e73b644d",
     "locked": true,
     "schema_version": 3,
     "solution": false,
     "task": false
    }
   },
   "source": [
    "# Inference and Learning in Hidden Markov Models\n",
    "\n",
    "## Problem Set 5\n",
    "\n",
    "## Probabilistic Models UE\n",
    "\n",
    "---\n",
    "\n",
    "This assignment consists of two notebooks:\n",
    "- *Problem_1:* You will implement key Hidden Markov Model (HMM) inference algorithms, including filtering, smoothing, prediction, and decoding.\n",
    "- *Problem_2:* You will learn how to estimate the parameters of HMMs from observation sequences using the Baum-Welch algorithm.\n",
    "\n",
    "**Due-Date:** see Moodle\n",
    " \n",
    "**Automatic Grading:** \n",
    "\n",
    "- Replace the placeholders `# YOUR CODE HERE` `raise NotImplementedError()` / `YOUR ANSWER HERE` with your code / answers.\n",
    "- Put results in the corresponding variable; otherwise, we will not grade your solution (i.e., we assign 0 points).\n",
    "- Do not delete or add cells.\n",
    "\n",
    "<div class=\"alert alert-warning\">\n",
    "    \n",
    "**Submission:** As a ZIP-package via Moodle; the ZIP-package **must have the following structure**:\n",
    "\n",
    "    + <student ID, (k + 8 digits), e.g. k01234567>.zip\n",
    "    +-- Problem_1.ipynb\n",
    "    +-- Problem_2.ipynb\n",
    "    |-- <supplementary materials (optional)>\n",
    "    + \n",
    "\n",
    "**Questions?** Post them into the Problem Set Forum! \n",
    "</div>"
   ]
  },
  {
   "cell_type": "code",
   "execution_count": null,
   "metadata": {
    "deletable": false,
    "editable": false,
    "nbgrader": {
     "cell_type": "code",
     "checksum": "d83e37c0762ca3ba11b0c3b65991ec3e",
     "grade": false,
     "grade_id": "cell-3b121f6d3ecbeed5",
     "locked": true,
     "schema_version": 3,
     "solution": false,
     "task": false
    }
   },
   "outputs": [],
   "source": [
    "import numpy as np\n",
    "from utils import plot_states, get_weather_example, HMM"
   ]
  },
  {
   "cell_type": "markdown",
   "metadata": {
    "deletable": false,
    "editable": false,
    "nbgrader": {
     "cell_type": "markdown",
     "checksum": "2e151ea865ab2059f5adc0485253bfdf",
     "grade": false,
     "grade_id": "cell-615886dd1edf8b6b",
     "locked": true,
     "schema_version": 3,
     "solution": false,
     "task": false
    }
   },
   "source": [
    "## Inference in HMMs\n",
    "\n",
    "In this assignment, we will implement some of the common inference algorithms for Hidden Markov Models, using the following data structure to store the distribution tables:"
   ]
  },
  {
   "cell_type": "code",
   "execution_count": null,
   "metadata": {
    "deletable": false,
    "editable": false,
    "nbgrader": {
     "cell_type": "code",
     "checksum": "771e3faefbe121216bc2d3e88d799326",
     "grade": false,
     "grade_id": "cell-fa7ac8d57a1a9257",
     "locked": true,
     "schema_version": 3,
     "solution": false,
     "task": false
    }
   },
   "outputs": [],
   "source": [
    "import inspect\n",
    "print(inspect.getsource(HMM))"
   ]
  },
  {
   "cell_type": "markdown",
   "metadata": {
    "deletable": false,
    "editable": false,
    "nbgrader": {
     "cell_type": "markdown",
     "checksum": "b685f4fe8c380745d67abb6c4167e555",
     "grade": false,
     "grade_id": "cell-0c8ae272d4da2d51",
     "locked": true,
     "schema_version": 3,
     "solution": false,
     "task": false
    }
   },
   "source": [
    "Each `HMM` object holds four member variables (SD 6a., p. 9):\n",
    "- `num_states` is the number of states the hidden variable can take $\\mid S \\mid$.\n",
    "- `pi` represents the inital state distribution model $P(S^{(0)})$.\n",
    "- `A` gives the state transition probabilities $P(S^{(t+1)} \\mid S^{(t)})$ where $\\mathbf{A} = \\{a_{ij}\\} = \\{P(s_j^{(t+1)} \\mid s_i^{t})\\}$. That means, each row in $\\mathbf{A}$ represents a probability distribution over the next states given the current state (SD 6a, p. 10).\n",
    "- `B`gives the observation probabilities $P(O^{(t)} \\mid S^{(t)})$ where $\\mathbf{B} = \\{b_{ij}\\} = \\{b_j(o_i)\\} = \\{P(o_i\\mid s_j)\\}$. That means, each column in $\\mathbf{B}$ is a probability distribution over observations given the current state (SD 6a, p. 11).\n"
   ]
  },
  {
   "cell_type": "markdown",
   "metadata": {
    "deletable": false,
    "editable": false,
    "nbgrader": {
     "cell_type": "markdown",
     "checksum": "c804313c539c877e5d9bebe401e9e4b3",
     "grade": false,
     "grade_id": "cell-429391aa42bc6e85",
     "locked": true,
     "schema_version": 3,
     "solution": false,
     "task": false
    }
   },
   "source": [
    "### Filtering\n",
    "\n",
    "<div class=\"alert alert-warning\">\n",
    "\n",
    "Implement the forward algorithm for filtering! (2 points)\n",
    "\n",
    "</div>\n",
    "\n",
    "`forward` takes two parameters:\n",
    " - `hmm` is a HMM object which holds $\\mathbf{A}$, $\\mathbf{B}$ and $\\mathbf{\\Pi}$.\n",
    " - `observations` is a 1-D NumPy array representing the observed sequence.\n",
    " \n",
    "`forward` returns\n",
    "- a NumPy array of shape `(len(observations) + 1, hmm.num_states)`. Row $t$ represent the filtering distribution $\\mathsf{f}^{(1:t)} = P(S^{(t)} \\mid \\mathbf{o}^{(1:t)})$, for $t$ from `0` to `len(observations)`.\n",
    "\n",
    "*Hints*:\n",
    "- $\\mathsf{f}^{(1:0)}$ is the intial state distribution $\\mathbf{\\Pi}$.\n",
    "- Compute the forward message at time $t$ recursively from the previous forward message (SD 6a, p. 16):\n",
    "\n",
    "  $$P(S^{(t+1)} \\mid \\mathbf{o}^{(1:t+1)}) = \\mathsf{f}^{(1:t+1)} = \\frac{1}{Z} \\cdot \\mathbf{B}[o^{(t+1)}] \\circ \\mathbf{A}^T \\mathsf{f}^{(1:t)}$$\n",
    "\n",
    "  $Z$ is the normalization constant, i.e. the sum over the values in the forward message.\n",
    "\n",
    "- A NumPy array (matrix) `X` can be transposed with `X.T`.\n",
    "- Use `X * Y` to compute the element-wise (Hadamard) product between two arrays.\n",
    "- `np.dot(X, y)` (or `X @ y`) can be used to compute the sum-product over the last axis of X and y, where X is a 2-D array, and y is a 1-D array."
   ]
  },
  {
   "cell_type": "code",
   "execution_count": null,
   "metadata": {
    "deletable": false,
    "nbgrader": {
     "cell_type": "code",
     "checksum": "8ec1443748bdf5766c5e1398a73ba321",
     "grade": false,
     "grade_id": "cell-dfd39c839ab2ba8e",
     "locked": false,
     "schema_version": 3,
     "solution": true,
     "task": false
    }
   },
   "outputs": [],
   "source": [
    "def forward(hmm: HMM, observations: np.ndarray):\n",
    "    \"\"\"\n",
    "    Computes the filtering distribution (forward messages) for a given \n",
    "    Hidden Markov Model and observations.\n",
    "    \n",
    "    :param hmm: HMM datastructure\n",
    "    :param observations: Numpy array containing the observations\n",
    "\n",
    "    :return: filtering distribution (each row represents a time step)\n",
    "    \"\"\"\n",
    "    # initialize empty array for the forward messages\n",
    "    f = np.empty((len(observations) + 1, hmm.num_states))\n",
    "    \n",
    "    # YOUR CODE HERE\n",
    "    raise NotImplementedError()\n",
    "         \n",
    "    return f"
   ]
  },
  {
   "cell_type": "code",
   "execution_count": null,
   "metadata": {
    "deletable": false,
    "editable": false,
    "nbgrader": {
     "cell_type": "code",
     "checksum": "1763adf343f76bc52fd6eb8bcb0ae196",
     "grade": true,
     "grade_id": "cell-d37678daeaafc41f",
     "locked": true,
     "points": 2,
     "schema_version": 3,
     "solution": false,
     "task": false
    }
   },
   "outputs": [],
   "source": [
    "# sanity check using weather example from the lecture slides\n",
    "expected_f = np.array([\n",
    "    [0.2, 0.28464419, 0.33090744, 0.06386911],\n",
    "    [0.3, 0.3258427,  0.38844667, 0.2900097 ],\n",
    "    [0.5, 0.38951311, 0.28064589, 0.64612119]\n",
    "]).T # < Note the transposed here >\n",
    "\n",
    "\n",
    "actual_f = forward(*get_weather_example())\n",
    "\n",
    "# check shape\n",
    "assert actual_f.shape == expected_f.shape, f'Shape mismatch, expected {expected_f.shape}, but got {actual_f.shape}.'\n",
    "assert np.allclose(actual_f.sum(axis=1), np.ones((4,))), f'Proper probability distribution expected. (Entries sum to 1).'\n",
    "\n",
    "# plot best path\n",
    "plot_states(expected_f.argmax(axis=1), expected_f, title=\"Expected\", state_names=['rainy', 'cloudy', 'sunny'])\n",
    "plot_states(actual_f.argmax(axis=1), actual_f, title=\"Your Implementation\",state_names=['rainy', 'cloudy', 'sunny'])\n",
    "\n",
    "# check values\n",
    "assert np.allclose(expected_f, actual_f), f'Result mismatch, expected \\n{expected_f} \\nbut got \\n{actual_f}.'"
   ]
  },
  {
   "cell_type": "markdown",
   "metadata": {
    "deletable": false,
    "editable": false,
    "nbgrader": {
     "cell_type": "markdown",
     "checksum": "02613c060103e9a7bc623cce0a18dae1",
     "grade": false,
     "grade_id": "cell-3adefd88c3d49582",
     "locked": true,
     "schema_version": 3,
     "solution": false,
     "task": false
    }
   },
   "source": [
    "### Prediction\n",
    "\n",
    "<div class=\"alert alert-warning\">\n",
    "\n",
    "Implement the forward algorithm for prediction! (2 points)\n",
    "\n",
    "</div>\n",
    "\n",
    "`prediction` takes three parameters:\n",
    " - `hmm` is a HMM object which holds $\\mathbf{A}$, $\\mathbf{B}$ and $\\mathbf{\\Pi}$.\n",
    " - `observations` is a 1-D NumPy array representing the observed sequence.\n",
    " - `steps` is the number of steps to project the hidden state into the future.\n",
    " \n",
    "\n",
    "`prediction` returns\n",
    "- a NumPy array of shape `(len(observations) + 1 + steps, hmm.num_states)`. The rows represent the distributions:\n",
    "    - $P(S^{(t)} \\mid \\mathbf{o}^{(1:t)}) \\quad \\text{if}  \\;  t \\in \\{0, \\ldots, T\\}$, and\n",
    "    - $P(S^{(t)} \\mid \\mathbf{o}^{(1:T)}) \\quad \\text{otherwise}$, i.e. for the $s$ prediction steps.\n",
    "\n",
    "*Hints*:\n",
    "\n",
    "- Use your `forward` function to initialize the first $t+1$ distributions (we already did this for you):\n",
    "    $$P(S^{(t)} \\mid \\mathbf{o}^{(1:t)}) = \\mathsf{p}^{(t)} = \\mathsf{f}^{(1:t)}$$\n",
    "    \n",
    "- After that, compute the forward messages for the $k^{\\text{th}}$ prediction step recursively (SD 6a, p. 27):\n",
    "\n",
    "$$P(S^{(T + k + 1)} \\mid \\mathbf{o}^{(1:T)}) = \\mathsf{p}^{(T+k+1)} = \\mathbf{A}^T \\mathsf{p}^{(T+k)}$$\n",
    "\n",
    "- You will need matrix transposition and a matrix-vector product again."
   ]
  },
  {
   "cell_type": "code",
   "execution_count": null,
   "metadata": {
    "deletable": false,
    "nbgrader": {
     "cell_type": "code",
     "checksum": "167cb108cd3e6bf09b4355075d8279a3",
     "grade": false,
     "grade_id": "cell-bd8b0daf8d5cfc53",
     "locked": false,
     "schema_version": 3,
     "solution": true,
     "task": false
    }
   },
   "outputs": [],
   "source": [
    "def prediction(hmm: HMM, observations: np.ndarray, steps: int):\n",
    "    \"\"\"\n",
    "    Computes the forward messages and future predictions for a given \n",
    "    Hidden Markov Model and observations.\n",
    "    \n",
    "    :param hmm: HMM data structure\n",
    "    :param observations: Numpy array containing the observations\n",
    "\n",
    "    :return: forward messages and predictions (each row represents a time step)\n",
    "    \"\"\"\n",
    "    # initialize empty array for the forward messages\n",
    "    p = np.empty((len(observations)+1+steps, hmm.num_states))\n",
    "    \n",
    "    # initialize the states for which we have observation\n",
    "    p[:len(observations)+1] = forward(hmm, observations)\n",
    "    \n",
    "    # YOUR CODE HERE\n",
    "    raise NotImplementedError()\n",
    "    \n",
    "    return p"
   ]
  },
  {
   "cell_type": "code",
   "execution_count": null,
   "metadata": {
    "deletable": false,
    "editable": false,
    "nbgrader": {
     "cell_type": "code",
     "checksum": "204ea4b5b0df6f948de0e71035eafc09",
     "grade": true,
     "grade_id": "cell-944202aa8b44a00d",
     "locked": true,
     "points": 2,
     "schema_version": 3,
     "solution": false,
     "task": false
    }
   },
   "outputs": [],
   "source": [
    "# sanity check using the weather example\n",
    "expected_f = np.array([\n",
    "    [0.2, 0.28464419, 0.33090744, 0.2381169, 0.20747555],\n",
    "    [0.3, 0.3258427,  0.38844667, 0.36040482, 0.32782579],\n",
    "    [0.5, 0.38951311, 0.28064589, 0.40147828, 0.46469866]\n",
    "]).T\n",
    "\n",
    "actual_f = prediction(*get_weather_example(sequence=[2,1]), 2)\n",
    "\n",
    "# check shape\n",
    "assert actual_f.shape == expected_f.shape, f'Shape mismatch, expected {expected_f.shape}, but got {actual_f.shape}.'\n",
    "assert np.allclose(actual_f.sum(axis=1), np.ones((5,))), f'Proper probability distribution expected. (Entries sum to 1).'\n",
    "\n",
    "# plot best path\n",
    "plot_states(expected_f.argmax(axis=1), expected_f, title=\"Expected\", state_names=['rainy', 'cloudy', 'sunny'])\n",
    "plot_states(actual_f.argmax(axis=1), actual_f, title=\"Your Implementation\",state_names=['rainy', 'cloudy', 'sunny'])\n",
    "\n",
    "# check values\n",
    "assert np.allclose(expected_f, actual_f), f'Result mismatch, expected \\n{expected_f} \\nbut got \\n{actual_f}.'\n"
   ]
  },
  {
   "cell_type": "markdown",
   "metadata": {
    "deletable": false,
    "editable": false,
    "nbgrader": {
     "cell_type": "markdown",
     "checksum": "a0cab20ad3646b381afe1c4e684d5a8d",
     "grade": false,
     "grade_id": "cell-ab145bc1f9434a3e",
     "locked": true,
     "schema_version": 3,
     "solution": false,
     "task": false
    }
   },
   "source": [
    "<div class=\"alert alert-warning\">\n",
    "Answer the following question! (1 point)\n",
    "</div>\n",
    "\n",
    "Compute or estimate the stationary distribution of the weather Hidden Markov model and save your answer in the ```stationary_distribution``` variable as a vector of three values (i.e., the probability of the weather being rainy, cloudy or sunny, respectivly). (2 points)\n",
    "\n",
    "*Hint*:\n",
    "\n",
    "* Use `*get_weather_example(sequence=[])` to get the weather Hidden Markov model"
   ]
  },
  {
   "cell_type": "code",
   "execution_count": null,
   "metadata": {
    "deletable": false,
    "nbgrader": {
     "cell_type": "code",
     "checksum": "eb882f9cf94e7ee4f53f15d7b4b790f4",
     "grade": false,
     "grade_id": "cell-43f68ad6fdfb87fa",
     "locked": false,
     "schema_version": 3,
     "solution": true,
     "task": false
    }
   },
   "outputs": [],
   "source": [
    "stationary_distribution = None\n",
    "\n",
    "# YOUR CODE HERE\n",
    "raise NotImplementedError()"
   ]
  },
  {
   "cell_type": "code",
   "execution_count": null,
   "metadata": {
    "deletable": false,
    "editable": false,
    "nbgrader": {
     "cell_type": "code",
     "checksum": "93677a95965ecce2e6e66ac030c02df0",
     "grade": true,
     "grade_id": "cell-9ad3000e04b47311",
     "locked": true,
     "points": 1,
     "schema_version": 3,
     "solution": false,
     "task": false
    }
   },
   "outputs": [],
   "source": [
    "assert stationary_distribution is not None\n",
    "assert stationary_distribution.shape == (3,)\n",
    "assert np.isclose(stationary_distribution.sum(), 1)\n"
   ]
  },
  {
   "cell_type": "markdown",
   "metadata": {
    "deletable": false,
    "editable": false,
    "nbgrader": {
     "cell_type": "markdown",
     "checksum": "840337b2b3ca67c0b7c7d5005bb12119",
     "grade": false,
     "grade_id": "cell-e548ec535f45e1d3",
     "locked": true,
     "schema_version": 3,
     "solution": false,
     "task": false
    }
   },
   "source": [
    "### Smoothing\n",
    "\n",
    "<div class=\"alert alert-warning\">\n",
    "\n",
    "Implement the backward algorithm for smoothing! (2 points)\n",
    "\n",
    "</div>\n",
    "\n",
    "`backward` takes two parameters:\n",
    " - `hmm` is a HMM object which holds $\\mathbf{A}$, $\\mathbf{B}$ and $\\mathbf{\\Pi}$.\n",
    " - `observations` is a 1-D NumPy array representing the observed sequence.\n",
    " \n",
    "`backward` returns\n",
    "- a NumPy array of shape `(len(observations) + 1, hmm.num_states)`. The rows in this array represent the  probabilities $\\mathsf{b}^{(t+1:T)} = P(\\mathbf{o}^{(t+1:T)} \\mid S^{(t)})$. <br>**Important:** Rescale these probabilities to avoid arithmetic underflow. Rescale each backward message such that its values sum to one.\n",
    "\n",
    "\n",
    "*Hints*:\n",
    "- initialize $\\mathsf{b}^{(T+1:T)}$ with  $\\frac{\\mathbf{1}}{\\mid S \\mid }$.\n",
    "- Use our modified formula to compute the normalized backward message at time $t$ recursively given the one at $t+1$:\n",
    "\n",
    "  $$ P(\\mathbf{o}^{(t+1:T)} \\mid S^{(t)}) = \\mathsf{b}^{(t+1:T)} = \\frac{1}{Z} \\cdot \\mathbf{A}(\\mathbf{B}[o^{(t+1)}]^T \\circ \\mathsf{b}^{(t+2:T)})$$\n",
    "\n",
    " $Z$ is the normalization constant, i.e. the sum over the values in the backward message.\n",
    "\n",
    "- The equation uses transposition to turn row vectors into column vectors. In NumPy, vectors do not have an orientation anyway.\n",
    "- You will need the Hadamard product and a matrix-vector product again."
   ]
  },
  {
   "cell_type": "code",
   "execution_count": null,
   "metadata": {
    "deletable": false,
    "nbgrader": {
     "cell_type": "code",
     "checksum": "df7667f7a85b5e537924f0edfba42d2b",
     "grade": false,
     "grade_id": "cell-314af18b53d61894",
     "locked": false,
     "schema_version": 3,
     "solution": true,
     "task": false
    }
   },
   "outputs": [],
   "source": [
    "def backward(hmm: HMM, observations: np.ndarray):\n",
    "    \"\"\"\n",
    "    Computes the backward messages for a given \n",
    "    Hidden Markov Model and observations.\n",
    "    \n",
    "    :param hmm: HMM datastructure\n",
    "    :param observations: Numpy array containing the observations\n",
    "\n",
    "    :return: backward messages (each row represents a time step)\n",
    "    \"\"\"\n",
    "    # initialize empty array for the backward messages\n",
    "    b = np.empty((len(observations) + 1, hmm.num_states))\n",
    "    \n",
    "    # YOUR CODE HERE\n",
    "    raise NotImplementedError()\n",
    "    return b"
   ]
  },
  {
   "cell_type": "code",
   "execution_count": null,
   "metadata": {
    "deletable": false,
    "editable": false,
    "nbgrader": {
     "cell_type": "code",
     "checksum": "c144a4ecd32753a41cb8acb10be7e607",
     "grade": true,
     "grade_id": "cell-22932c8c17e0b2df",
     "locked": true,
     "points": 2,
     "schema_version": 3,
     "solution": false,
     "task": false
    }
   },
   "outputs": [],
   "source": [
    "# sanity check using the weather example\n",
    "\n",
    "expected_f = np.array([\n",
    "    [0.37656343, 0.36522439, 0.25821219],\n",
    "    [0.35404896, 0.34597794, 0.2999731 ],\n",
    "    [0.26956522, 0.27826087, 0.45217391],\n",
    "    [0.33333333, 0.33333333, 0.33333333]\n",
    "])\n",
    "\n",
    "actual_f = backward(*get_weather_example())\n",
    "\n",
    "# check shape\n",
    "assert actual_f.shape == expected_f.shape,f'Shape mismatch, expected {expected_f.shape}, but got {actual_f.shape}.'\n",
    "# Check well formedness\n",
    "assert np.allclose(actual_f.sum(axis=1), np.ones((4,))), f'Proper probability distribution expected. (Entries sum to 1).'\n",
    "\n",
    "# check values\n",
    "assert np.allclose(expected_f, actual_f), f'Result mismatch, expected \\n{expected_f} \\nbut got \\n{actual_f}.'"
   ]
  },
  {
   "cell_type": "markdown",
   "metadata": {
    "deletable": false,
    "editable": false,
    "nbgrader": {
     "cell_type": "markdown",
     "checksum": "0d68f0ddd39ec534cda968c23f8cde3a",
     "grade": false,
     "grade_id": "cell-9444be295cbeb86e",
     "locked": true,
     "schema_version": 3,
     "solution": false,
     "task": false
    }
   },
   "source": [
    "<div class=\"alert alert-warning\">\n",
    "\n",
    "Implement the forward-backward algorithm for smoothing. (2 points)\n",
    "\n",
    "</div>\n",
    "\n",
    "`forward_backward` takes two parameters:\n",
    " - `hmm` is a HMM object which holds $\\mathbf{A}$, $\\mathbf{B}$ and $\\mathbf{\\Pi}$.\n",
    " - `observations` is a 1-D NumPy array of shape `(T,)` representing the observed sequence.\n",
    " \n",
    "`forward_backward` returns\n",
    "- a NumPy array of shape `(len(observations) + 1, hmm.num_states)`. The rows represent the smoothed distribution $P({S}^{(t)} \\mid \\mathbf{o}^{(1:T)})$.\n",
    "\n",
    "*Hints*:\n",
    "- Use the formula from the lecture slides to compute the posterior distribution over the states at time $t$ (6a, slide 36):\n",
    "\n",
    "$$ P({S}^{(t)} \\mid \\mathbf{o}^{(1:T)}) = \\frac{1}{Z} \\cdot \\mathsf{f}^{(1:t)} \\circ \\mathsf{b}^{(t+1:T)}$$\n",
    "- Reuse the `forward` and `backward` functions to get forward and backward messages."
   ]
  },
  {
   "cell_type": "code",
   "execution_count": null,
   "metadata": {
    "deletable": false,
    "nbgrader": {
     "cell_type": "code",
     "checksum": "057f1473d0c944cf4321fe0bcaf5061a",
     "grade": false,
     "grade_id": "cell-9b24177886f0b0dc",
     "locked": false,
     "schema_version": 3,
     "solution": true,
     "task": false
    }
   },
   "outputs": [],
   "source": [
    "def forward_backward(hmm: HMM, observations: np.ndarray):\n",
    "    \"\"\"\n",
    "    Computes the posterior (smoothing distribution) for a given \n",
    "    Hidden Markov Model and observations.\n",
    "    \n",
    "    :param hmm: HMM data structure\n",
    "    :param observations: Numpy array containing the observations\n",
    "\n",
    "    :return: posterior distribution (each row represents a time step)\n",
    "\n",
    "    \"\"\"\n",
    "    \n",
    "    # YOUR CODE HERE\n",
    "    raise NotImplementedError()\n",
    "    \n",
    "    return posterior"
   ]
  },
  {
   "cell_type": "code",
   "execution_count": null,
   "metadata": {
    "deletable": false,
    "editable": false,
    "nbgrader": {
     "cell_type": "code",
     "checksum": "888a607ea4063d8634fd0821aac2a8f5",
     "grade": true,
     "grade_id": "cell-0318edc4a30fe2d2",
     "locked": true,
     "points": 2,
     "schema_version": 3,
     "solution": false,
     "task": false
    }
   },
   "outputs": [],
   "source": [
    "# sanity check using weather example\n",
    "\n",
    "expected_f = np.array([\n",
    "    [0.23985994, 0.34895595, 0.41118411],\n",
    "    [0.3050589 , 0.3412514 , 0.35368971],\n",
    "    [0.27514961, 0.33341264, 0.39143776],\n",
    "    [0.06386911, 0.2900097 , 0.64612119]\n",
    "])\n",
    "\n",
    "actual_f = forward_backward(*get_weather_example(sequence=[2,1,0]))\n",
    "\n",
    "# check shape\n",
    "assert actual_f.shape == expected_f.shape,f'Shape mismatch, expected {expected_f.shape}, but got {actual_f.shape}.'\n",
    "\n",
    "# Check well formedness\n",
    "assert np.allclose(actual_f.sum(axis=1), np.ones((4,))), f'Proper probability distribution expected. (Entries sum to 1).'\n",
    "\n",
    "# plot best path\n",
    "plot_states(expected_f.argmax(axis=1), expected_f, title=\"Expected\", state_names=['rainy', 'cloudy', 'sunny'])\n",
    "plot_states(actual_f.argmax(axis=1), actual_f, title=\"Your Implementation\",state_names=['rainy', 'cloudy', 'sunny'])\n",
    "\n",
    "# check values\n",
    "assert np.allclose(expected_f, actual_f), f'Result mismatch, expected \\n{expected_f} \\nbut got \\n{actual_f}.'"
   ]
  },
  {
   "cell_type": "markdown",
   "metadata": {
    "deletable": false,
    "editable": false,
    "nbgrader": {
     "cell_type": "markdown",
     "checksum": "7d946c9ae740ce643a889812fd0096f0",
     "grade": false,
     "grade_id": "cell-f993f5227e6efeb4",
     "locked": true,
     "schema_version": 3,
     "solution": false,
     "task": false
    }
   },
   "source": [
    "### Decoding - Viterbi Algorithm\n",
    "\n",
    "<div class=\"alert alert-warning\">\n",
    "\n",
    "Implement the Viterbi algorithm for decoding! (3 points)\n",
    "\n",
    "</div>\n",
    "\n",
    "`viterbi` takes two parameters:\n",
    " - `hmm` is a HMM object which holds $\\mathbf{A}$, $\\mathbf{B}$ and $\\mathbf{\\Pi}$.\n",
    " - `observations` is a 1-D NumPy array of shape `(T,)` representing the observed sequence.\n",
    " \n",
    "`viterbi` returns two objects:\n",
    "1. a NumPy array of shape `(len(observations) + 1, hmm.num_states)`. The rows in this array hold a normalized version of the Viterbi message $\\mathbf{v}^{(1:t)} = \\text{max}_{s^{0}, ...,s^{t-1}} \\; P(s^{(0)}, ..., s^{(t-1)}, S^{(t)}, \\mathbf{o}^{(1:t)})$ for each time step $t$.<br>**Important:** Rescale these probabilities to avoid arithmetic underflow. Rescale each Viterbi message such that its values sum up to one.\n",
    "\n",
    "2. a 1-D NumPy array of length `len(observations) + 1`. The values of this array represent the most probable path given the observations $\\textit{arg max}_{\\mathbf{S}^{0:T}} \\; P(\\mathbf{S}^{(0:T)} \\mid \\mathbf{o}^{(1:T)})$. Each state in the path is represented as an integer value.\n",
    "\n",
    "\n",
    "\n",
    "\n",
    "*Hints*:\n",
    "- initialize $\\mathsf{v}^{(1:0)}$ with $\\mathbf{\\Pi}$.\n",
    "- Use our modified formula to compute the next Viterbi message at time $t$ recursively given the previous one. $Z$ is the normalization constant, i.e. the sum over the values in the Viterbi message:\n",
    "  $$\\mathsf{v}_i^{(1:t+1)} = \\text{max}_j\\;\\; \\frac{1}{Z} \\cdot \\mathsf{v}_j^{(1:t)} a_{ji} b_i(o^{(t+1)}) $$\n",
    "  Recheck the notes on the notation at the beginning of the notebook to understand the equation.\n",
    "\n",
    "- For each state $s^{t}_i$, keep a back pointer to the best state that leads to it (starting at $t=1$): \n",
    "  $$\\mathsf{bp}_i^{(1:t+1)} = \\text{arg max}_j\\;\\; \\mathsf{v}_j^{(1:t)} a_{ji} $$\n",
    "\n",
    "- Using the back pointers $\\mathsf{bp}^{(t)}$, you can trace the most likely path. Start with:\n",
    "  $$s^{(T)*} = \\text{arg max}_{i} \\mathsf{v}_i^{(1:T)}$$\n",
    "\n",
    "- `np.max` and `np.argmax` can be used to get the largest entry and the index of the largest element in a NumPy array, respectively.\n",
    "\n",
    "- Almost all operations in the previous equations can be *vectorized* in NumPy, i.e., you will not need to iterate over $i$ or $j$.\n",
    "- You can use a for-loop to iterate over the time steps."
   ]
  },
  {
   "cell_type": "code",
   "execution_count": null,
   "metadata": {
    "deletable": false,
    "nbgrader": {
     "cell_type": "code",
     "checksum": "73daab194a555b66ab4cda6833e0458c",
     "grade": false,
     "grade_id": "cell-b63ead3cdac64f56",
     "locked": false,
     "schema_version": 3,
     "solution": true,
     "task": false
    }
   },
   "outputs": [],
   "source": [
    "def viterbi(hmm: HMM, observations: np.ndarray):\n",
    "    \"\"\"\n",
    "    Computes the most probable state sequence for a given\n",
    "    Hidden Markov Model and observations.\n",
    "    \n",
    "    :param hmm: HMM data structure\n",
    "    :param observations: Numpy array containing the observations\n",
    "\n",
    "    :return: Viterbi messages (each row represents a time step) and\n",
    "             Numpy array of state IDs representing the most probable state sequence\n",
    "    \"\"\"\n",
    "    v = np.empty((len(observations) + 1, hmm.num_states))\n",
    "    bp = np.empty_like(v, dtype=int)\n",
    "    p = np.empty((len(observations) + 1,), dtype=int)\n",
    "\n",
    "    # YOUR CODE HERE\n",
    "    raise NotImplementedError()\n",
    "\n",
    "    return v, p"
   ]
  },
  {
   "cell_type": "code",
   "execution_count": null,
   "metadata": {
    "deletable": false,
    "editable": false,
    "nbgrader": {
     "cell_type": "code",
     "checksum": "c7f07609c9be16cc0a6b5aac1e7f3ea2",
     "grade": true,
     "grade_id": "cell-89faa345227f80a9",
     "locked": true,
     "points": 3,
     "schema_version": 3,
     "solution": false,
     "task": false
    }
   },
   "outputs": [],
   "source": [
    "expected_v = np.array([\n",
    "    [0.2       , 0.3       , 0.5       ],\n",
    "    [0.19277108, 0.3253012 , 0.48192771],\n",
    "    [0.19900498, 0.40298507, 0.39800995],\n",
    "    [0.02967033, 0.26703297, 0.7032967 ]\n",
    "])\n",
    "expected_p = np.array([2, 2, 2, 2])\n",
    "\n",
    "actual_v, actual_p = viterbi(*get_weather_example(sequence=[2,1,0]))\n",
    "\n",
    "# check shape\n",
    "assert actual_v.shape == expected_v.shape, f'Shape mismatch, expected {expected_v.shape}, but got {actual_v.shape}.'\n",
    "assert actual_p.shape == expected_p.shape, f'Shape mismatch, expected {expected_p.shape}, but got {actual_p.shape}.'\n",
    "\n",
    "# Check well formedness\n",
    "assert np.allclose(actual_v.sum(axis=1), np.ones((4,))), f'Proper probability distribution expected. (Entries sum to 1).'\n",
    "\n",
    "# plot best path\n",
    "plot_states(expected_p, expected_v, title=\"Expected\", state_names=['rainy', 'cloudy', 'sunny'])\n",
    "plot_states(actual_p, actual_v, title=\"Actual\",state_names=['rainy', 'cloudy', 'sunny'])\n",
    "\n",
    "# check values\n",
    "assert np.allclose(expected_v, actual_v), f'Result mismatch, expected \\n{expected_v} \\nbut got \\n{actual_v}.'\n",
    "assert np.allclose(expected_p, actual_p), f'Result mismatch, expected \\n{expected_p} \\nbut got \\n{actual_p}.'"
   ]
  },
  {
   "cell_type": "markdown",
   "metadata": {
    "deletable": false,
    "editable": false,
    "nbgrader": {
     "cell_type": "markdown",
     "checksum": "cc54d5ed4e55e8b5ddb156dd007be191",
     "grade": false,
     "grade_id": "cell-a9a4eb82ae2f142a",
     "locked": true,
     "schema_version": 3,
     "solution": false,
     "task": false
    }
   },
   "source": [
    "## Where is Santa? Find out using Hidden Markov Models.\n",
    "\n",
    "\n",
    "The 8-year-old you wakes up in the middle of the night of Christmas eve. You hear some noise.\n",
    "Probably Santa Clause is coming with the presents! It’s dark, and you are not allowed to leave\n",
    "your room, so you cannot check where Santa currently is. You can only listen carefully to infer\n",
    "where Santa might be.\n",
    "\n",
    "Santa can be either **absent (a)**, on his **sleigh (s)**, in the **chimney (c)** or at the Christmas **tree (t)**. To get to the Christmas tree, Santa has to go through the chimney because the doors are locked.\n",
    "When Santa is absent, there will be most probably silence; when Santa is on the sleigh, there will\n",
    "probably be some crackle or rumbling; in the chimney there will be most probably rumbling, and\n",
    "when Santa is at the Christmas tree putting the presents in place, there might be some crackle.\n",
    "\n",
    "The following image shows the HMM modeling this situation, including transition probabilities.\n",
    "\n",
    "<img style='width:100%;  max-width:400px;' src=\"hmm.svg\">\n",
    "\n",
    "The following tables give the observation probabilities:\n",
    "\n",
    "<style type=\"text/css\">\n",
    ".tg  {border-collapse:collapse;border-spacing:0;margin:0px auto;}\n",
    ".tg td{font-family:Arial, sans-serif;font-size:14px;padding:10px 5px;border-style:solid;border-width:1px;overflow:hidden;word-break:normal;}\n",
    ".tg th{font-family:Arial, sans-serif;font-size:14px;font-weight:normal;padding:10px 5px;border-style:solid;border-width:1px;overflow:hidden;word-break:normal;}\n",
    ".tg .tg-baqh{text-align:center;vertical-align:top}\n",
    ".tg .tg-lqy6{text-align:right;vertical-align:top}\n",
    "</style>\n",
    "<table class=\"tg\">\n",
    "  <tr>\n",
    "    <th class=\"tg-baqh\" colspan=\"2\" rowspan=\"2\"><nobr>$P( O \\mid S )$</nobr></th>\n",
    "    <th class=\"tg-baqh\" colspan=\"4\"><center>$s^{(t)}$</center></th>\n",
    "  </tr>\n",
    "  <tr>\n",
    "    <td class=\"tg-baqh\">a</td>\n",
    "    <td class=\"tg-baqh\">s</td>\n",
    "    <td class=\"tg-baqh\">c</td>\n",
    "    <td class=\"tg-baqh\">t</td>\n",
    "  </tr>\n",
    "  <tr>\n",
    "    <td class=\"tg-baqh\" rowspan=\"3\">$o^{(t)}$<br></td>\n",
    "    <td class=\"tg-lqy6\">silence</td>\n",
    "    <td class=\"tg-baqh\">0.8</td>\n",
    "    <td class=\"tg-baqh\">0.1</td>\n",
    "    <td class=\"tg-baqh\">0.1</td>\n",
    "    <td class=\"tg-baqh\">0.1</td>\n",
    "  </tr>\n",
    "  <tr>\n",
    "    <td class=\"tg-lqy6\">rumbling</td>\n",
    "    <td class=\"tg-baqh\">0.1</td>\n",
    "    <td class=\"tg-baqh\">0.5</td>\n",
    "    <td class=\"tg-baqh\">0.8</td>\n",
    "    <td class=\"tg-baqh\">0.3</td>\n",
    "  </tr>\n",
    "  <tr>\n",
    "    <td class=\"tg-lqy6\">crackle</td>\n",
    "    <td class=\"tg-baqh\">0.1</td>\n",
    "    <td class=\"tg-baqh\">0.4</td>\n",
    "    <td class=\"tg-baqh\">0.1</td>\n",
    "    <td class=\"tg-baqh\">0.6</td>\n",
    "  </tr>\n",
    "</table>\n",
    "\n",
    "The initial state distribution is given by the following table:\n",
    "\n",
    "<style type=\"text/css\">\n",
    ".tg  {border-collapse:collapse;border-spacing:0;margin:0px auto;}\n",
    ".tg td{font-family:Arial, sans-serif;font-size:14px;padding:10px 5px;border-style:solid;border-width:1px;overflow:hidden;word-break:normal;}\n",
    ".tg th{font-family:Arial, sans-serif;font-size:14px;font-weight:normal;padding:10px 5px;border-style:solid;border-width:1px;overflow:hidden;word-break:normal;}\n",
    ".tg .tg-s6z2{text-align:center}\n",
    "</style>\n",
    "<table class=\"tg\">\n",
    "  <tr>\n",
    "    <th class=\"tg-s6z2\" colspan=\"4\"><center>$P(S^{(0)})$</center></th>\n",
    "  </tr>\n",
    "  <tr>\n",
    "    <td class=\"tg-s6z2\">a</td>\n",
    "    <td class=\"tg-s6z2\">s</td>\n",
    "    <td class=\"tg-s6z2\">c</td>\n",
    "    <td class=\"tg-s6z2\">t</td>\n",
    "  </tr>\n",
    "  <tr>\n",
    "    <td class=\"tg-031e\">0.8</td>\n",
    "    <td class=\"tg-031e\">0.1</td>\n",
    "    <td class=\"tg-031e\">0.1</td>\n",
    "    <td class=\"tg-031e\">0.0</td>\n",
    "  </tr>\n",
    "</table>\n",
    "\n",
    "This is the corresponding state transition table: \n",
    "\n",
    "<table class=\"tg\">\n",
    "  <tr>\n",
    "    <th class=\"tg-baqh\" colspan=\"1\" rowspan=\"2\">$P( S^{(t+1)} \\mid S^{(t)} )$</th>\n",
    "    <th class=\"tg-baqh\" colspan=\"1\" rowspan=\"2\"></th>\n",
    "    <th class=\"tg-baqh\" colspan=\"4\"><center>$s^{(t)}$</center></th>\n",
    "  </tr>\n",
    "  <tr>\n",
    "    <td class=\"tg-baqh\">a</td>\n",
    "    <td class=\"tg-baqh\">s</td>\n",
    "    <td class=\"tg-baqh\">c</td>\n",
    "    <td class=\"tg-baqh\">t</td>\n",
    "  </tr>\n",
    "  <tr>\n",
    "    <td class=\"tg-baqh\" rowspan=\"4\">$s^{(t+1)}$<br></td>\n",
    "    <td class=\"tg-lqy6\">a</td>\n",
    "    <td class=\"tg-baqh\">0.7</td>\n",
    "    <td class=\"tg-baqh\">0.3</td>\n",
    "    <td class=\"tg-baqh\">0.0</td>\n",
    "    <td class=\"tg-baqh\">0.0</td>\n",
    "  </tr>\n",
    "  <tr>\n",
    "    <td class=\"tg-lqy6\">s</td>\n",
    "    <td class=\"tg-baqh\">0.3</td>\n",
    "    <td class=\"tg-baqh\">0.4</td>\n",
    "    <td class=\"tg-baqh\">0.4</td>\n",
    "    <td class=\"tg-baqh\">0.0</td>\n",
    "  </tr>\n",
    "  <tr>\n",
    "    <td class=\"tg-lqy6\">c</td>\n",
    "    <td class=\"tg-baqh\">0.0</td>\n",
    "    <td class=\"tg-baqh\">0.3</td>\n",
    "    <td class=\"tg-baqh\">0.2</td>\n",
    "    <td class=\"tg-baqh\">0.3</td>\n",
    "  </tr>\n",
    "  <tr>\n",
    "    <td class=\"tg-lqy6\">t</td>\n",
    "    <td class=\"tg-baqh\">0.0</td>\n",
    "    <td class=\"tg-baqh\">0.0</td>\n",
    "    <td class=\"tg-baqh\">0.4</td>\n",
    "    <td class=\"tg-baqh\">0.7</td>\n",
    "  </tr>  \n",
    "</table>\n",
    "\n",
    "\n",
    "Since Hidden Markov Models haven’t made it into the elementary school curriculum yet, your 8-year-old self is determined to outsmart the system and needs your help to uncover Santa's whereabouts.\n",
    "<div class=\"alert alert-info\">\n",
    "Nothing to do for you here; the follwong part is to check your implementation.\n",
    "</div>"
   ]
  },
  {
   "cell_type": "code",
   "execution_count": null,
   "metadata": {
    "deletable": false,
    "editable": false,
    "nbgrader": {
     "cell_type": "code",
     "checksum": "1a609884f41127b5f6e9302195ad3f06",
     "grade": false,
     "grade_id": "cell-0b7bf06732738744",
     "locked": true,
     "schema_version": 3,
     "solution": false,
     "task": false
    }
   },
   "outputs": [],
   "source": [
    "pi = np.array([0.8, 0.1, 0.1, 0.0])\n",
    "\n",
    "A = np.array([[0.7, 0.3, 0.0, 0.0],\n",
    "           [0.3, 0.4, 0.3, 0.0],\n",
    "           [0.0, 0.4, 0.2, 0.4],\n",
    "           [0.0, 0.0, 0.3, 0.7]])\n",
    "\n",
    "B = np.array([[0.8, 0.1, 0.1, 0.1],\n",
    "           [0.1, 0.5, 0.8, 0.3],\n",
    "           [0.1, 0.4, 0.1, 0.6]])\n",
    "\n",
    "model = HMM(pi, A, B)\n",
    "\n",
    "# Mary's observations - 0 .. silence, 1 .. rumbling, 2 .. crackle\n",
    "obs = np.array([0, 0, 1, 0, 0, 0, 2, 2, 0, 2, 2, 1, 2, 1, 2, 2, 0, 1, 2, 2, 1, 1, 1, 0, 2, 0, 1, 2, 0, 0])\n",
    "\n",
    "fwd = forward(model, obs)\n",
    "f = fwd.argmax(1)\n",
    "\n",
    "fwdbckwd = forward_backward(model, obs)\n",
    "fb = fwdbckwd.argmax(1)\n",
    "\n",
    "vt, vtp  = viterbi(model, obs)\n",
    "\n",
    "true_fwd = np.array([[ 0.8       ,  0.1       ,  0.1       ,  0.        ],\n",
    "    [ 0.92007797,  0.06237817,  0.00974659,  0.00779727],\n",
    "    [ 0.94020048,  0.05406153,  0.00407881,  0.00165918],\n",
    "    [ 0.28701312,  0.64972666,  0.05969411,  0.00356611]])\n",
    "    \n",
    "true_fwdbckwd = np.array([[  9.41085487e-01,   5.38720181e-02,   5.04249464e-03,   0.00000000e+00],\n",
    "    [  9.65056826e-01,   3.34657970e-02,   1.03017901e-03,   4.47198412e-04],\n",
    "    [  9.44024669e-01,   5.26712024e-02,   3.07328070e-03,   2.30848099e-04],\n",
    "    [  4.86699963e-01,   5.07701911e-01,   5.41252605e-03,   1.85599925e-04]])\n",
    " \n",
    "true_viterbi = np.array([[ 0.8       ,  0.1       ,  0.1       ,  0.        ],\n",
    "    [ 0.93528184,  0.05010438,  0.00626305,  0.00835073],\n",
    "    [ 0.94557515,  0.05065581,  0.0027137 ,  0.00105533],\n",
    "    [ 0.30016956,  0.64322048,  0.05513318,  0.00147678]])\n",
    "\n",
    "true_viterbi_path = np.array([0, 0, 0, 0, 0, 0, 0, 1])\n",
    "\n",
    "assert np.allclose(fwd[:4], true_fwd), \"Error in forward computation\"\n",
    "assert np.allclose(fwdbckwd[:4], true_fwdbckwd), \"Error in forward-backward computation\"\n",
    "assert np.allclose(vt[:4], true_viterbi), \"Error in viterbi computation\"\n",
    "assert (vtp[:8] == true_viterbi_path).all(), \"Error in viterbit-path computation\"\n",
    "\n",
    "plot_states(f, fwd, 'Forward')\n",
    "plot_states(fb, fwdbckwd, 'Forward-Backward')\n",
    "plot_states(vtp, vt, 'Viterbi')"
   ]
  },
  {
   "cell_type": "markdown",
   "metadata": {
    "deletable": false,
    "editable": false,
    "nbgrader": {
     "cell_type": "markdown",
     "checksum": "5d1c0e39d3e39cbc2d6445a06d967089",
     "grade": false,
     "grade_id": "cell-d9631bee07ab8115",
     "locked": true,
     "schema_version": 3,
     "solution": false,
     "task": false
    }
   },
   "source": [
    "## Theory Questions\n",
    "<div class=\"alert alert-warning\">\n",
    "Answer the following questions! (1 point each)\n",
    "</div>\n",
    "\n",
    "Which of the algorithms (forward, forward_backward, viterbi) yields a valid state sequence **in general**, i.e., for an arbitrary observation sequence?\n",
    "\n",
    "Store True into the provided variable if the algorithm **always** yields a valid state sequence and False otherwise."
   ]
  },
  {
   "cell_type": "code",
   "execution_count": null,
   "metadata": {
    "deletable": false,
    "nbgrader": {
     "cell_type": "code",
     "checksum": "1d5c487896bc5977d61641d0bfbef615",
     "grade": false,
     "grade_id": "cell-40da7875f6e7f9cd",
     "locked": false,
     "schema_version": 3,
     "solution": true,
     "task": false
    }
   },
   "outputs": [],
   "source": [
    "answers = {}\n",
    "answers['forward'] = None\n",
    "answers['forward_backward'] = None\n",
    "answers['viterbi'] = None\n",
    "\n",
    "# YOUR CODE HERE\n",
    "raise NotImplementedError()"
   ]
  },
  {
   "cell_type": "code",
   "execution_count": null,
   "metadata": {
    "deletable": false,
    "editable": false,
    "nbgrader": {
     "cell_type": "code",
     "checksum": "0e7b16519908a9e91d60e6d999734366",
     "grade": true,
     "grade_id": "cell-2d7c4d440a000009",
     "locked": true,
     "points": 1,
     "schema_version": 3,
     "solution": false,
     "task": false
    }
   },
   "outputs": [],
   "source": [
    "assert answers['forward'] in [True, False]\n",
    "assert answers['forward_backward'] in [True, False]\n",
    "assert answers['viterbi'] in [True, False]\n"
   ]
  },
  {
   "cell_type": "markdown",
   "metadata": {
    "deletable": false,
    "editable": false,
    "nbgrader": {
     "cell_type": "markdown",
     "checksum": "9af1c2a565849a5b2e08305512cd019a",
     "grade": false,
     "grade_id": "cell-c903061a68bdc276",
     "locked": true,
     "schema_version": 3,
     "solution": false,
     "task": false
    }
   },
   "source": [
    "Why do some of the algorithms yield a valid state sequence in general, and others do not. Explain briefly!"
   ]
  },
  {
   "cell_type": "markdown",
   "metadata": {
    "deletable": false,
    "nbgrader": {
     "cell_type": "markdown",
     "checksum": "a38a48afb6e9e8bd46394a1b81dcbe61",
     "grade": true,
     "grade_id": "cell-ed45db8b9f96f38e",
     "locked": false,
     "points": 1,
     "schema_version": 3,
     "solution": true,
     "task": false
    }
   },
   "source": [
    "YOUR ANSWER HERE"
   ]
  },
  {
   "cell_type": "markdown",
   "metadata": {
    "deletable": false,
    "editable": false,
    "nbgrader": {
     "cell_type": "markdown",
     "checksum": "3ad02225cf1c3c354d9c3dc32ca81ca9",
     "grade": false,
     "grade_id": "cell-3847582fdec8e46f",
     "locked": true,
     "schema_version": 3,
     "solution": false,
     "task": false
    }
   },
   "source": [
    "### Design a Hidden Markov Model\n",
    "\n",
    "<div class=\"alert alert-warning\">\n",
    "\n",
    "Run the three algorithms with your custom HMM and plot the results with `plot_states`. Store the parameters of the Hidden Markov Model into the provided variables. (1 point)\n",
    "\n",
    "</div>\n",
    "\n",
    "Design a model ($\\mathbf{A}$, $\\mathbf{B}$ and $\\mathbf{\\Pi}$) and an observation sequence for which only one of the algorithms returns a valid state sequence.\n",
    "\n",
    "**Hint:**\n",
    "- you can reuse the Santa HMM and design an observation sequence."
   ]
  },
  {
   "cell_type": "code",
   "execution_count": null,
   "metadata": {
    "deletable": false,
    "editable": false,
    "nbgrader": {
     "cell_type": "code",
     "checksum": "e69ed0bcea8dc765639b4aaecac535b7",
     "grade": false,
     "grade_id": "cell-a92ddc5fce99f64e",
     "locked": true,
     "schema_version": 3,
     "solution": false,
     "task": false
    }
   },
   "outputs": [],
   "source": [
    "help(plot_states)"
   ]
  },
  {
   "cell_type": "code",
   "execution_count": null,
   "metadata": {
    "deletable": false,
    "nbgrader": {
     "cell_type": "code",
     "checksum": "5cd65a08ba3d3482202e86fc5d373274",
     "grade": false,
     "grade_id": "cell-4ca1e4dd5f638b36",
     "locked": false,
     "schema_version": 3,
     "solution": true,
     "task": false
    }
   },
   "outputs": [],
   "source": [
    "pi = None\n",
    "A = None\n",
    "B = None\n",
    "\n",
    "obs = None\n",
    "\n",
    "# YOUR CODE HERE\n",
    "raise NotImplementedError()"
   ]
  },
  {
   "cell_type": "code",
   "execution_count": null,
   "metadata": {
    "deletable": false,
    "editable": false,
    "nbgrader": {
     "cell_type": "code",
     "checksum": "bdfd58098647f1ca519b711ce9b11cb6",
     "grade": true,
     "grade_id": "cell-c0bdbd793ba67438",
     "locked": true,
     "points": 1,
     "schema_version": 3,
     "solution": false,
     "task": false
    }
   },
   "outputs": [],
   "source": [
    "assert pi is not None\n",
    "assert A is not None\n",
    "assert B is not None\n",
    "assert obs is not None\n",
    "\n",
    "model = HMM(pi, A, B)\n",
    "\n",
    "fwd = forward(model, obs)\n",
    "fwd_path = fwd.argmax(1)\n",
    "\n",
    "fwdbckwd = forward_backward(model, obs)\n",
    "fwdbckwd_path = fwdbckwd.argmax(1)\n",
    "\n",
    "vt, vt_path  = viterbi(model, obs)\n",
    "\n",
    "state_names = ['s%d' % (s + 1) for s in range(len(pi))]\n",
    "\n",
    "plot_states(fwd_path, fwd, 'Forward', state_names=state_names)\n",
    "plot_states(fwdbckwd_path, fwdbckwd, 'Forward-Backward', state_names=state_names)\n",
    "plot_states(vt_path, vt, 'Viterbi', state_names=state_names)\n"
   ]
  }
 ],
 "metadata": {
  "kernelspec": {
   "display_name": "Python 3 (ipykernel)",
   "language": "python",
   "name": "python3"
  },
  "language_info": {
   "codemirror_mode": {
    "name": "ipython",
    "version": 3
   },
   "file_extension": ".py",
   "mimetype": "text/x-python",
   "name": "python",
   "nbconvert_exporter": "python",
   "pygments_lexer": "ipython3",
   "version": "3.11.10"
  }
 },
 "nbformat": 4,
 "nbformat_minor": 4
}
